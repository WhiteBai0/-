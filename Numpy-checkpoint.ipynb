{
 "cells": [
  {
   "cell_type": "markdown",
   "id": "9a23a7fe-4fee-415e-9908-75d399e79733",
   "metadata": {},
   "source": [
    "# Numpy"
   ]
  },
  {
   "cell_type": "code",
   "execution_count": null,
   "id": "fa5a75ed-63dd-42b1-a7ff-260ed2d17f00",
   "metadata": {},
   "outputs": [],
   "source": [
    "import numpy as np\n",
    "import time"
   ]
  },
  {
   "cell_type": "code",
   "execution_count": null,
   "id": "9c1eea9a-1508-4327-93b4-d36fc06311e4",
   "metadata": {
    "tags": []
   },
   "outputs": [],
   "source": [
    "%%timeit\n",
    "a = []\n",
    "for x in range(100000):\n",
    "    a.append(x**2)"
   ]
  },
  {
   "cell_type": "code",
   "execution_count": null,
   "id": "7fc97f38-222d-4885-a6cd-2a3db0eec4f1",
   "metadata": {},
   "outputs": [],
   "source": [
    "%%timeit\n",
    "b = np.arange(100000)**2"
   ]
  },
  {
   "cell_type": "code",
   "execution_count": null,
   "id": "2642c61a-1e66-4381-bcb5-85e60e07e8f4",
   "metadata": {},
   "outputs": [],
   "source": [
    "%%timeit -n30 -r10 #n:每次循环次数，r:运行次数\n",
    "b = np.arange(100000)**2"
   ]
  },
  {
   "cell_type": "markdown",
   "id": "013488b7-0ee5-4c68-b4f9-a67a8405d4ce",
   "metadata": {},
   "source": [
    "## **%%timeit：时间效率统计命令**\n",
    "python中的魔法命令，可以直接使用%%timeit来计算整个cell中所有代码运行所需的时间。  \n",
    "为了计算所需时间，需要将整个cell中的代码运行多次（通常7次）后求平均值，  \n",
    "***（%%timeit -n30 -r10 #n:每次循环次数，r:运行次数  ）可用于修改循环和运行次数***  \n",
    "因此运行%%timeit的时间远远超过cell中代码单独运行的时间。"
   ]
  },
  {
   "cell_type": "markdown",
   "id": "bc9e2679-6c44-4126-ad19-b21688bc30b1",
   "metadata": {},
   "source": [
    "## 1.创建数组\n",
    "### 1. np.array(object, dtype,ndmin)\n",
    "### 2. np.arange(start，stop，step)\n",
    "### 3. np. linspace(start，stop，num):不包含stop\n",
    "### 4. np.logspace(start, stop, num):不包含stop\n",
    "### 5. np.zeros(shape)\n",
    "### 6. np. ones(shape)\n",
    "### 7. np.diag(v)"
   ]
  },
  {
   "cell_type": "code",
   "execution_count": null,
   "id": "06f4cd48-839b-4f12-87df-51d3f99760df",
   "metadata": {},
   "outputs": [],
   "source": [
    "np.arange(10)"
   ]
  },
  {
   "cell_type": "code",
   "execution_count": null,
   "id": "7c105ba4-3d62-494b-a901-4ab1b1099ad0",
   "metadata": {},
   "outputs": [],
   "source": [
    "#import numpy as np #导入 NumPy 库 \n",
    "arr1 = np.array([1, 2, 3, 4]) #创建一维数组 \n",
    "#print('一维数组arr1为：\\n',arr1)\n",
    "arr1"
   ]
  },
  {
   "cell_type": "code",
   "execution_count": null,
   "id": "6ffc792a-1259-4cfb-8886-667d50c4dbb6",
   "metadata": {},
   "outputs": [],
   "source": [
    "import numpy as np #导入numpy库\n",
    "data1 = [1,3,5,7] #列表数据\n",
    "w1 = np.array(data1)\n",
    "w1"
   ]
  },
  {
   "cell_type": "code",
   "execution_count": null,
   "id": "fe0e0fae-c497-485b-8be6-e1bb8d035a15",
   "metadata": {},
   "outputs": [],
   "source": [
    "data2 = (2,4,6,8) #元组数据\n",
    "w2 = np.array(data2)\n",
    "w2"
   ]
  },
  {
   "cell_type": "code",
   "execution_count": null,
   "id": "27bf7b21-6b1b-482f-b412-0f7cb95d68d6",
   "metadata": {},
   "outputs": [],
   "source": [
    "data3 = [[1,2,3,4],[4,5,6,7],[7,8,9,10]] #多维数组\n",
    "w3 = np.array(data3)\n",
    "w3"
   ]
  },
  {
   "cell_type": "code",
   "execution_count": null,
   "id": "fc7e7436-99c5-4510-b843-3ac3b31165b5",
   "metadata": {},
   "outputs": [],
   "source": [
    "#range()和arange()的区别\n",
    "a=range(10)#输出迭代对象，是一个迭代器，循环中使用\n",
    "a\n",
    "\n",
    "b=np.arange(10)#输出数组对象\n",
    "b\n",
    "\n",
    "for i in a:\n",
    "    print(i)\n",
    "\n",
    "for i in b:\n",
    "    print(i)"
   ]
  },
  {
   "cell_type": "code",
   "execution_count": null,
   "id": "c074f800-fcae-492f-94a8-b35f3abfe9bf",
   "metadata": {},
   "outputs": [],
   "source": [
    "np.arange(0,1,0.2)"
   ]
  },
  {
   "cell_type": "code",
   "execution_count": null,
   "id": "e9f71d43-2a6a-4644-9fe9-ebd152f8da9b",
   "metadata": {},
   "outputs": [],
   "source": [
    "np.linspace(0,1,5)"
   ]
  },
  {
   "cell_type": "code",
   "execution_count": null,
   "id": "53b07731-e1c1-491d-a173-6325ade3b244",
   "metadata": {},
   "outputs": [],
   "source": [
    "np.logspace(0,1,5)"
   ]
  },
  {
   "cell_type": "code",
   "execution_count": null,
   "id": "29fdcfc8-4073-4d91-bf68-b7a26a69a9b4",
   "metadata": {},
   "outputs": [],
   "source": [
    "np.logspace(1,2,5)"
   ]
  },
  {
   "cell_type": "code",
   "execution_count": null,
   "id": "3079f5d0-6a84-41bb-ad30-14282682d616",
   "metadata": {},
   "outputs": [],
   "source": [
    "np.zeros((4,3))"
   ]
  },
  {
   "cell_type": "code",
   "execution_count": null,
   "id": "dfe55860-2135-4164-a3d2-931a0a2db689",
   "metadata": {},
   "outputs": [],
   "source": [
    "np.ones((3,4))"
   ]
  },
  {
   "cell_type": "code",
   "execution_count": null,
   "id": "dd0b59c2-3ff0-4238-84a1-a3ce7c1658a4",
   "metadata": {},
   "outputs": [],
   "source": [
    "np.diag([1,2,3,4])"
   ]
  },
  {
   "cell_type": "markdown",
   "id": "3c37eb01-8e6e-478a-acde-98d56bbc17f1",
   "metadata": {},
   "source": [
    "## 2.数组属性"
   ]
  },
  {
   "cell_type": "code",
   "execution_count": null,
   "id": "1ef25c2c-1a1a-44ac-bb33-56f458cfe662",
   "metadata": {},
   "outputs": [],
   "source": [
    "# 创建二维数组\n",
    "arr2 = np.array([[1, 2, 3, 4],[4, 5, 6, 7], [7, 8, 9, 10]])\n",
    "arr2\n",
    "#print('二维数组arr2为：\\n',arr2)"
   ]
  },
  {
   "cell_type": "code",
   "execution_count": null,
   "id": "d88cf7ba-d05e-4fa2-902e-e02b668aadec",
   "metadata": {},
   "outputs": [],
   "source": [
    "arr2.ndim   #表示数组的维数"
   ]
  },
  {
   "cell_type": "code",
   "execution_count": null,
   "id": "40fdbf97-f991-4950-9446-b70bf52ab22e",
   "metadata": {},
   "outputs": [],
   "source": [
    "arr2.shape  #表示数组的尺寸"
   ]
  },
  {
   "cell_type": "code",
   "execution_count": null,
   "id": "ea02f713-a80d-4dc3-8b28-eb3ebded69fd",
   "metadata": {},
   "outputs": [],
   "source": [
    "arr2.dtype #查看数组类型"
   ]
  },
  {
   "cell_type": "code",
   "execution_count": null,
   "id": "6027629a-5972-489b-8ae0-d25ebba314ce",
   "metadata": {},
   "outputs": [],
   "source": [
    "arr2.size #查看数组元素个数"
   ]
  },
  {
   "cell_type": "code",
   "execution_count": null,
   "id": "1ecd6d97-6355-40f8-8a98-b0f90f0aa655",
   "metadata": {},
   "outputs": [],
   "source": [
    "arr2.itemsize #每个元素内存大小"
   ]
  },
  {
   "cell_type": "markdown",
   "id": "e1cc457d-0f06-4b8d-b01c-065ec4cc4965",
   "metadata": {},
   "source": [
    "## 3.数据类型转换\n",
    "**np.数据类型（数组名）& 数组名.astype（np.数据类型）**\n"
   ]
  },
  {
   "cell_type": "code",
   "execution_count": null,
   "id": "386ef814-bc74-4986-8711-3c2690d10669",
   "metadata": {},
   "outputs": [],
   "source": [
    "arr2 = np.array([[1, 2, 3, 4],[4, 5, 6, 7], [7, 8, 9, 10]])\n",
    "arr2"
   ]
  },
  {
   "cell_type": "code",
   "execution_count": null,
   "id": "2194170f-3471-4453-8cee-29e1580c4573",
   "metadata": {},
   "outputs": [],
   "source": [
    "arr2.ndim"
   ]
  },
  {
   "cell_type": "code",
   "execution_count": null,
   "id": "37e6d965-9ceb-45d0-ae94-4f9ce2b177b1",
   "metadata": {},
   "outputs": [],
   "source": [
    "arr2.shape"
   ]
  },
  {
   "cell_type": "code",
   "execution_count": null,
   "id": "eeb5e2cf-6ad1-4a7d-bdb6-7640aa2b5b91",
   "metadata": {},
   "outputs": [],
   "source": [
    "arr2.size"
   ]
  },
  {
   "cell_type": "code",
   "execution_count": null,
   "id": "050b1b3b-7a2a-4ff3-ab1a-5151f18c4c65",
   "metadata": {},
   "outputs": [],
   "source": [
    "arr2.shape = 2,6\n",
    "arr2"
   ]
  },
  {
   "cell_type": "code",
   "execution_count": null,
   "id": "1d15979c-5a5d-4a8a-a774-d49e0c832218",
   "metadata": {},
   "outputs": [],
   "source": [
    "arr2.dtype"
   ]
  },
  {
   "cell_type": "code",
   "execution_count": null,
   "id": "07278076-5144-4885-9c5a-c9263b0eb0d1",
   "metadata": {},
   "outputs": [],
   "source": [
    "arr2.astype(np.float64)\n",
    "arr2"
   ]
  },
  {
   "cell_type": "code",
   "execution_count": null,
   "id": "d86d654b-5139-4a2f-85da-e1cd737af204",
   "metadata": {},
   "outputs": [],
   "source": [
    "arr2.dtype"
   ]
  },
  {
   "cell_type": "code",
   "execution_count": null,
   "id": "3e644b39-9cf0-4ec3-98ab-4c86d021b888",
   "metadata": {},
   "outputs": [],
   "source": [
    "np.float64(arr2)\n",
    "arr2"
   ]
  },
  {
   "cell_type": "code",
   "execution_count": null,
   "id": "1a50c529-1d33-4d1a-832d-c804d98c5670",
   "metadata": {},
   "outputs": [],
   "source": [
    "arr2.dtype"
   ]
  },
  {
   "cell_type": "code",
   "execution_count": null,
   "id": "094240ae-7765-42d6-b61b-9abd085d4f83",
   "metadata": {},
   "outputs": [],
   "source": [
    "a1 = np.array([1.2,2.1,4.5,6.3])\n",
    "a1.dtype"
   ]
  },
  {
   "cell_type": "code",
   "execution_count": null,
   "id": "02cdb69c-4211-45f4-9f6a-44e9861f0cac",
   "metadata": {},
   "outputs": [],
   "source": [
    "a2 = a1.astype(np.int32)\n",
    "a2"
   ]
  },
  {
   "cell_type": "code",
   "execution_count": null,
   "id": "cf42790e-6702-4b0e-9141-bb40b3fb5c8e",
   "metadata": {},
   "outputs": [],
   "source": [
    "a3 = np.int32(a1)\n",
    "a3"
   ]
  },
  {
   "cell_type": "code",
   "execution_count": null,
   "id": "ba1728b6-72b4-43a9-a837-73507f1917b0",
   "metadata": {},
   "outputs": [],
   "source": [
    "a2.astype(np.float64)"
   ]
  },
  {
   "cell_type": "markdown",
   "id": "63f798c4-8512-4723-a94f-55005c942cf7",
   "metadata": {},
   "source": [
    "## 4.自定义数据类型"
   ]
  },
  {
   "cell_type": "code",
   "execution_count": null,
   "id": "158ed526-dc77-469c-ae8b-3aa90abfea19",
   "metadata": {},
   "outputs": [],
   "source": [
    "#创建表头，字符串类型需指定长度\n",
    "df = np.dtype([(\"name\", np.str_, 40), (\"numitems\", np.int64), (\"price\",np.float64)])\n",
    "print('数据类型为：',df)"
   ]
  },
  {
   "cell_type": "code",
   "execution_count": null,
   "id": "773c4d93-6a45-44be-9889-617046581cc5",
   "metadata": {},
   "outputs": [],
   "source": [
    "df['numitems']"
   ]
  },
  {
   "cell_type": "code",
   "execution_count": null,
   "id": "9f619d76-d0b8-4083-9b35-0301607bde48",
   "metadata": {},
   "outputs": [],
   "source": [
    "np.dtype(df['price'])"
   ]
  },
  {
   "cell_type": "code",
   "execution_count": null,
   "id": "f3d5876f-5e79-4e3a-9309-b90dc11c83cb",
   "metadata": {},
   "outputs": [],
   "source": [
    "#填充数据\n",
    "itemz = np.array([(\"tomatoes\", 42, 4.14), (\"cabbages\", 13, 1.72)], dtype=df)\n",
    "print('自定义数据为：',itemz)"
   ]
  },
  {
   "cell_type": "markdown",
   "id": "9dd0a1a5-69c2-4acf-96c1-5aa1f3bf481d",
   "metadata": {},
   "source": [
    "创建学生信息数组"
   ]
  },
  {
   "cell_type": "code",
   "execution_count": null,
   "id": "cb9955e8-1fab-49b2-8ff5-5be749c3bd17",
   "metadata": {},
   "outputs": [],
   "source": [
    "a = np.dtype([('id',np.int8),('name',np.str_,10),('sex',np.str_,3)])"
   ]
  },
  {
   "cell_type": "code",
   "execution_count": null,
   "id": "1eaf58f8-531a-445a-bc3d-1388f31ed148",
   "metadata": {},
   "outputs": [],
   "source": [
    "mes = np.array([(123,'城池','女'),(113,'城池冲','男')], dtype=a)"
   ]
  },
  {
   "cell_type": "code",
   "execution_count": null,
   "id": "bd98fec7-1376-4805-b4a3-04e570daa25a",
   "metadata": {},
   "outputs": [],
   "source": [
    "mes"
   ]
  },
  {
   "cell_type": "markdown",
   "id": "5c400a77-1175-4f26-8f31-cde37d08f76d",
   "metadata": {},
   "source": [
    "## **5.数组的索引与切片**"
   ]
  },
  {
   "cell_type": "markdown",
   "id": "c6bec8c6-5b84-4f7f-8c35-db5861056057",
   "metadata": {},
   "source": [
    "### **1. 一维数组的索引与切片**"
   ]
  },
  {
   "cell_type": "code",
   "execution_count": null,
   "id": "16df0af2-c268-4a3f-af48-5641f603fcf9",
   "metadata": {},
   "outputs": [],
   "source": [
    "arr = np.arange(10)\n",
    "arr"
   ]
  },
  {
   "cell_type": "code",
   "execution_count": null,
   "id": "99ed7792-ba40-4ceb-bb3a-6f0df2b4b0b6",
   "metadata": {},
   "outputs": [],
   "source": [
    "arr = np.arange(10)\n",
    "arr"
   ]
  },
  {
   "cell_type": "code",
   "execution_count": null,
   "id": "696e9f3e-71d4-4b73-88d7-9a55926eaa48",
   "metadata": {},
   "outputs": [],
   "source": [
    "arr[3]     "
   ]
  },
  {
   "cell_type": "code",
   "execution_count": null,
   "id": "37da96d5-427a-4fab-acb2-89a6371b06ea",
   "metadata": {},
   "outputs": [],
   "source": [
    "arr[3:5]"
   ]
  },
  {
   "cell_type": "code",
   "execution_count": null,
   "id": "891b495d-0681-4346-ad26-cf33d53ad6c0",
   "metadata": {},
   "outputs": [],
   "source": [
    "arr[1:-1:2]"
   ]
  },
  {
   "cell_type": "code",
   "execution_count": null,
   "id": "03ba5e44-c8e7-4cae-bed2-b5c7619510af",
   "metadata": {},
   "outputs": [],
   "source": [
    "arr[:5]"
   ]
  },
  {
   "cell_type": "code",
   "execution_count": null,
   "id": "6c79aaa6-0b52-4054-a1ea-0b9d2f5a6528",
   "metadata": {},
   "outputs": [],
   "source": [
    "arr[::-1]"
   ]
  },
  {
   "cell_type": "code",
   "execution_count": null,
   "id": "1fa40872-5f71-4e6a-b7c5-797ee29d2ce8",
   "metadata": {},
   "outputs": [],
   "source": [
    "#复数步长切片，起始索引值要大于终止索引值\n",
    "arr[1:5:-1]\n",
    "\n",
    "arr[8:5:-1]\n",
    "\n",
    "arr[-1:5:-1]"
   ]
  },
  {
   "cell_type": "code",
   "execution_count": null,
   "id": "5ec41248-04ec-4dfc-bc52-54c0bdeb9686",
   "metadata": {
    "tags": []
   },
   "outputs": [],
   "source": [
    "#通过下标修改元素\n",
    "arr[2:4] = 100,101\n",
    "arr"
   ]
  },
  {
   "cell_type": "markdown",
   "id": "10c0d9cb-ca39-4843-812b-599b7734e2b8",
   "metadata": {},
   "source": [
    "### **视图与数据复制（.copy）**"
   ]
  },
  {
   "cell_type": "code",
   "execution_count": null,
   "id": "bcb94a7f-6a93-43c7-bf45-70150de087cb",
   "metadata": {},
   "outputs": [],
   "source": [
    "arr"
   ]
  },
  {
   "cell_type": "code",
   "execution_count": null,
   "id": "4bee485c-2d1c-417e-b218-70d633d73113",
   "metadata": {},
   "outputs": [],
   "source": [
    "aa = arr.copy()\n",
    "aa"
   ]
  },
  {
   "cell_type": "code",
   "execution_count": null,
   "id": "f789cbf4-10bc-4d91-8211-f847f3b77fac",
   "metadata": {},
   "outputs": [],
   "source": [
    "aa[1:3] = [99,999]\n",
    "aa"
   ]
  },
  {
   "cell_type": "code",
   "execution_count": null,
   "id": "4043c29e-4c90-4d36-91e1-b2348c7ae82b",
   "metadata": {},
   "outputs": [],
   "source": [
    "arr"
   ]
  },
  {
   "cell_type": "code",
   "execution_count": null,
   "id": "8f4ff1ee-e526-4241-8dbc-663d90b2c101",
   "metadata": {
    "jupyter": {
     "source_hidden": true
    },
    "tags": []
   },
   "outputs": [],
   "source": [
    "try:\n",
    "    n=eval(input('请输入成绩：'))\n",
    "    if(n>=85):\n",
    "        print('A')\n",
    "    elif(n<60):\n",
    "        print('B')\n",
    "    else:\n",
    "        print('合格')\n",
    "except:\n",
    "    print('false')"
   ]
  },
  {
   "cell_type": "markdown",
   "id": "d8e36bdb-c5b3-4458-b1b5-6b5420533ead",
   "metadata": {},
   "source": [
    "### **2. 二维数组的索引与切片**"
   ]
  },
  {
   "cell_type": "code",
   "execution_count": null,
   "id": "5b42111b-0f36-48ec-b3bf-f1a6cd42dd22",
   "metadata": {},
   "outputs": [],
   "source": [
    "arr = np.array([[1, 2, 3, 4, 5],[4, 5, 6, 7, 8], [7, 8, 9, 10, 11]])\n",
    "arr"
   ]
  },
  {
   "cell_type": "code",
   "execution_count": null,
   "id": "b0e16d43-e27e-402b-8bfd-df0b5d0a382b",
   "metadata": {},
   "outputs": [],
   "source": [
    "arr[[1,-1],]"
   ]
  },
  {
   "cell_type": "code",
   "execution_count": null,
   "id": "ef0b57b7-6434-48af-a003-debd4adb2de9",
   "metadata": {},
   "outputs": [],
   "source": [
    "arr[1:,2:]"
   ]
  },
  {
   "cell_type": "code",
   "execution_count": null,
   "id": "cc6368cf-e37b-4553-9e9b-90bc55f7df09",
   "metadata": {},
   "outputs": [],
   "source": [
    "arr[1,1]"
   ]
  },
  {
   "cell_type": "code",
   "execution_count": null,
   "id": "9d45aa4b-6844-42f1-ae24-ffba39aa161b",
   "metadata": {},
   "outputs": [],
   "source": [
    "arr[1][1]"
   ]
  },
  {
   "cell_type": "code",
   "execution_count": null,
   "id": "1bb38135-f48a-4ae1-9faa-404b6d4b41df",
   "metadata": {},
   "outputs": [],
   "source": [
    "arr[0,1:3] "
   ]
  },
  {
   "cell_type": "code",
   "execution_count": null,
   "id": "364204fb-1a2f-41a1-af11-d77f15509e91",
   "metadata": {},
   "outputs": [],
   "source": [
    "arr[:,2]"
   ]
  },
  {
   "cell_type": "code",
   "execution_count": null,
   "id": "d820456a-0a2d-4406-ae28-fc4fe404049b",
   "metadata": {},
   "outputs": [],
   "source": [
    "arr[:1,:1]"
   ]
  },
  {
   "cell_type": "code",
   "execution_count": null,
   "id": "ed093d28-05fa-480e-b40f-f75e60aa4b00",
   "metadata": {},
   "outputs": [],
   "source": [
    "arr[0,3:5] "
   ]
  },
  {
   "cell_type": "code",
   "execution_count": null,
   "id": "6d5d390b-dec9-4091-9f94-7e70c9a834ce",
   "metadata": {},
   "outputs": [],
   "source": [
    "arr[1:,2:]"
   ]
  },
  {
   "cell_type": "code",
   "execution_count": null,
   "id": "19fa51ac-6dc7-4a72-b7b9-cf8bd39dccb1",
   "metadata": {},
   "outputs": [],
   "source": [
    "arr[:,2]"
   ]
  },
  {
   "cell_type": "code",
   "execution_count": null,
   "id": "6082ab2b-67b0-4ac1-9df0-57561f75d6e3",
   "metadata": {},
   "outputs": [],
   "source": [
    "arr[::-1]"
   ]
  },
  {
   "cell_type": "code",
   "execution_count": null,
   "id": "8406b320-75ec-4c8d-802a-8e164ffa2011",
   "metadata": {},
   "outputs": [],
   "source": [
    "arr[::-1,::-1]"
   ]
  },
  {
   "cell_type": "markdown",
   "id": "ad1fb768-1b0a-4586-8eda-0e1b4a061d2c",
   "metadata": {},
   "source": [
    "**注意：切片得到的数据，对应的还是原始数据。任何修改都会反映到原始数据上**   \n",
    "不想改变原数组，则通过.copy()进行赋值  \n",
    "操作原数组的子序列的时候，实际上就是操作原数组的数据。  \n",
    "这就意味着数组中的数据没有被复制，任何在其子序列上的操作都会映射到原数组上。  "
   ]
  },
  {
   "cell_type": "code",
   "execution_count": null,
   "id": "13590e18-8767-4eea-ab84-788da01ec09e",
   "metadata": {
    "tags": []
   },
   "outputs": [],
   "source": [
    "a1=np.arange(15).reshape(3,5)\n",
    "a1\n",
    "\n",
    "b1=a1[1:,2:]\n",
    "b1\n",
    "\n",
    "#修改切片子数组某些元素的值\n",
    "b1[1:,1:]=[98,99]\n",
    "b1\n",
    "\n",
    "#原数组也会发生改变\n",
    "a1"
   ]
  },
  {
   "cell_type": "code",
   "execution_count": null,
   "id": "19b9c759-c142-4395-9ee1-f1d4757e0e14",
   "metadata": {},
   "outputs": [],
   "source": [
    "a2=np.arange(15).reshape(3,5)\n",
    "a2\n",
    "#不想改变原数组，则通过.copy()进行赋值\n",
    "b2=a2.copy()[1:,2:]\n",
    "b2\n",
    "\n",
    "#修改切片子数组某些元素的值\n",
    "b2[1:,1:]=[98,99]\n",
    "b2\n",
    "\n",
    "#原数组未发生改变\n",
    "a2"
   ]
  },
  {
   "cell_type": "markdown",
   "id": "179274c4-3abf-4813-af6d-80092c0a241c",
   "metadata": {},
   "source": [
    "#### 花式索引\n",
    "##### 1.整数索引"
   ]
  },
  {
   "cell_type": "code",
   "execution_count": null,
   "id": "13572333-1d38-4068-a42f-977f3e372e10",
   "metadata": {},
   "outputs": [],
   "source": [
    "arr = np.array([[1, 2, 3, 4, 5],[4, 5, 6, 7, 8], [7, 8, 9, 10, 11]])\n",
    "arr"
   ]
  },
  {
   "cell_type": "code",
   "execution_count": null,
   "id": "c353ca1d-a4c6-4cff-ae02-9c3a12ff227e",
   "metadata": {},
   "outputs": [],
   "source": [
    "#从两个序列的对应位置取出两个整数组成下标：arr[0,1], arr[1,2], arr[2,3]\n",
    "arr[([0,1,2],[1,2,3])]"
   ]
  },
  {
   "cell_type": "code",
   "execution_count": null,
   "id": "b6ff9c4c-6486-45dd-8c83-d1dea8e726f8",
   "metadata": {},
   "outputs": [],
   "source": [
    "arr[:,[2,1,3]]"
   ]
  },
  {
   "cell_type": "code",
   "execution_count": null,
   "id": "0222a065-0aa3-4e69-a32b-0f3f0d45205a",
   "metadata": {},
   "outputs": [],
   "source": [
    "arr[[1,-1],[0,1]]"
   ]
  },
  {
   "cell_type": "markdown",
   "id": "ddc02736-48a7-467e-8873-f3ce00895fe5",
   "metadata": {},
   "source": [
    "##### 2.布尔索引"
   ]
  },
  {
   "cell_type": "code",
   "execution_count": null,
   "id": "c7686da6-961a-4427-999c-248def61077c",
   "metadata": {},
   "outputs": [],
   "source": [
    "arr[1:,(0,2,3)] #索引第2、3行中第0、2、3列的元素"
   ]
  },
  {
   "cell_type": "code",
   "execution_count": null,
   "id": "9d33440b-3d6e-480c-a05d-9b1edbce13d6",
   "metadata": {},
   "outputs": [],
   "source": [
    "arr[[2,1]]"
   ]
  },
  {
   "cell_type": "code",
   "execution_count": null,
   "id": "c316dee6-99fb-4746-8aa8-678c39d07da4",
   "metadata": {},
   "outputs": [],
   "source": [
    "mask = np.array([1,0,1],dtype = bool)\n",
    "arr[mask,2]\n",
    "#mask是一个布尔数组，在逗号前，表示行索引的T/F取值"
   ]
  },
  {
   "cell_type": "markdown",
   "id": "e447dbbd-c0d7-4dc6-b7f4-3bdc7548510a",
   "metadata": {},
   "source": [
    "##### 3.逻辑索引(也是布尔索引)"
   ]
  },
  {
   "cell_type": "code",
   "execution_count": null,
   "id": "9cf14678-ba2e-4365-bd94-c6e49ded9d9b",
   "metadata": {},
   "outputs": [],
   "source": [
    "arr[arr>3]"
   ]
  },
  {
   "cell_type": "code",
   "execution_count": null,
   "id": "89371ef4-3f40-4b55-8f00-fa985fc40211",
   "metadata": {},
   "outputs": [],
   "source": [
    "arr[~(arr>3)] # ~:取反"
   ]
  },
  {
   "cell_type": "code",
   "execution_count": null,
   "id": "a3c297f9-2aba-459c-8fe9-8316aa5d007c",
   "metadata": {},
   "outputs": [],
   "source": [
    "arr[(arr>4)&(arr<10)]  "
   ]
  },
  {
   "cell_type": "markdown",
   "id": "d6b54416-fea5-4e5c-a196-7bc5456f5253",
   "metadata": {},
   "source": [
    " 整数索引和布尔值索引属于高级索引（花式索引），高级索引始终返回数据的副本，原数组是不会变化的。"
   ]
  },
  {
   "cell_type": "code",
   "execution_count": null,
   "id": "09ee0413-514e-465c-8108-e14798e5e330",
   "metadata": {},
   "outputs": [],
   "source": [
    "a3 = np.array([[1, 2, 3, 4, 5],[4, 5, 6, 7, 8], [7, 8, 9, 10, 11]])\n",
    "a3"
   ]
  },
  {
   "cell_type": "code",
   "execution_count": null,
   "id": "1c19b1e9-ce32-419b-9242-5e2fb85b7b99",
   "metadata": {},
   "outputs": [],
   "source": [
    "b3 = a3[1:,(0,2,3)] \n",
    "b3"
   ]
  },
  {
   "cell_type": "code",
   "execution_count": null,
   "id": "e1def1c3-7428-477c-8874-fce804075acf",
   "metadata": {},
   "outputs": [],
   "source": [
    "b3[1,1]=0\n",
    "b3"
   ]
  },
  {
   "cell_type": "code",
   "execution_count": null,
   "id": "81c11482-a2a3-4fd2-9cc4-8c3501fa6f08",
   "metadata": {},
   "outputs": [],
   "source": [
    "arr"
   ]
  },
  {
   "cell_type": "markdown",
   "id": "c0b71ab8-ffa1-44f9-a476-7d9ba3abd5d7",
   "metadata": {},
   "source": [
    "## **6.修改数组形状**"
   ]
  },
  {
   "cell_type": "markdown",
   "id": "3f9d314a-0eab-4868-ae37-38043b0a2a86",
   "metadata": {},
   "source": [
    "### shape():修改数组本身  \n",
    "原数组改变，可以使用-1计算另外的维度"
   ]
  },
  {
   "cell_type": "code",
   "execution_count": null,
   "id": "dd46aa1a-69bc-4719-bbab-7bfdf08e02cc",
   "metadata": {},
   "outputs": [],
   "source": [
    "arr = np.arange(12)  #创建一维数组\n",
    "print('创建的一维数组为：','\\n',arr)"
   ]
  },
  {
   "cell_type": "code",
   "execution_count": null,
   "id": "7e2d6f74-4860-4844-92ef-412f2d6a9db4",
   "metadata": {},
   "outputs": [],
   "source": [
    "arr.shape=(4,-1) #设置数组的形状\n",
    "arr"
   ]
  },
  {
   "cell_type": "code",
   "execution_count": null,
   "id": "933da967-5221-4d0b-b2ce-e26b1407ee50",
   "metadata": {},
   "outputs": [],
   "source": [
    "arr.ndim  #查看数组维度"
   ]
  },
  {
   "cell_type": "code",
   "execution_count": null,
   "id": "26cee5ce-bd80-4408-8ec5-2ea78e142629",
   "metadata": {
    "tags": []
   },
   "outputs": [],
   "source": [
    "arr = np.arange(12) \n",
    "arr.shape=(3,5) #设置数组的形状\n",
    "arr"
   ]
  },
  {
   "cell_type": "markdown",
   "id": "85ca0e99-a473-4ba7-82e1-cf3f9c4ac5f3",
   "metadata": {},
   "source": [
    "### reshape():新建一个数组\n",
    "原数组不改变，可以使用-1计算另外的维度"
   ]
  },
  {
   "cell_type": "code",
   "execution_count": null,
   "id": "17b8ac47-431f-467b-a6cb-d757a60bea11",
   "metadata": {},
   "outputs": [],
   "source": [
    "arr0 = np.arange(12)\n",
    "arr0"
   ]
  },
  {
   "cell_type": "code",
   "execution_count": null,
   "id": "94893ac8-fa83-44fb-a794-42773c0632f3",
   "metadata": {},
   "outputs": [],
   "source": [
    "arr0.reshape(3,4)"
   ]
  },
  {
   "cell_type": "code",
   "execution_count": null,
   "id": "6e22396a-5f11-4d58-8c88-5a03eceb2932",
   "metadata": {},
   "outputs": [],
   "source": [
    "arr0.reshape(2,-1)"
   ]
  },
  {
   "cell_type": "code",
   "execution_count": null,
   "id": "29f122e1-20d4-4a53-ae1a-6a2052d6bac9",
   "metadata": {},
   "outputs": [],
   "source": [
    "arr0.ndim"
   ]
  },
  {
   "cell_type": "markdown",
   "id": "dbd76e2a-ae07-4e6a-b70b-4733cedbf7e0",
   "metadata": {},
   "source": [
    "### resize():修改数组形状和大小\n",
    "不能使用-1自动计算形状"
   ]
  },
  {
   "cell_type": "code",
   "execution_count": null,
   "id": "50e9cef4-4c97-4669-8751-00534d7c8f23",
   "metadata": {},
   "outputs": [],
   "source": [
    "#用resizee函数修改arr形状\n",
    "arr1 = np.arange(12)\n",
    "arr2 = arr1.resize(3,4) \n",
    "arr1"
   ]
  },
  {
   "cell_type": "code",
   "execution_count": null,
   "id": "b34dbf43-ecb6-4f51-b75a-48edd8b1a71d",
   "metadata": {},
   "outputs": [],
   "source": [
    "#用resizee函数修改arr大小\n",
    "arr1 = np.arange(12)\n",
    "arr3 = arr1.resize(2,3) \n",
    "arr1"
   ]
  },
  {
   "cell_type": "code",
   "execution_count": null,
   "id": "b6ffdd7b-fc15-48aa-8b52-8f38d4f30b53",
   "metadata": {},
   "outputs": [],
   "source": [
    "#用resizee函数修改arr大小\n",
    "arr1 = np.arange(12)\n",
    "arr4 = arr1.resize(5,3) \n",
    "arr1"
   ]
  },
  {
   "cell_type": "markdown",
   "id": "00edbf3b-09fd-48b5-ba53-d6048b8c49b8",
   "metadata": {},
   "source": [
    "### 数组展平ravel()&flatten()"
   ]
  },
  {
   "cell_type": "code",
   "execution_count": null,
   "id": "2e1e7f9f-bc47-49a1-bfdd-97fd33955f8b",
   "metadata": {},
   "outputs": [],
   "source": [
    "arr.ravel()"
   ]
  },
  {
   "cell_type": "code",
   "execution_count": null,
   "id": "b2c5516f-dced-49ea-9050-b997d59cdfb3",
   "metadata": {},
   "outputs": [],
   "source": [
    "arr.flatten() #横向展平"
   ]
  },
  {
   "cell_type": "code",
   "execution_count": null,
   "id": "0d45b344-602a-4110-ae09-50303a6f57fb",
   "metadata": {},
   "outputs": [],
   "source": [
    "arr.flatten('F')#纵向展平"
   ]
  },
  {
   "cell_type": "markdown",
   "id": "99300cf5-a6c9-4a05-b21d-1ba40b73cb94",
   "metadata": {},
   "source": [
    "课堂练习"
   ]
  },
  {
   "cell_type": "code",
   "execution_count": null,
   "id": "4b01db68-f04d-4c58-9e35-14c5e9123faa",
   "metadata": {
    "tags": []
   },
   "outputs": [],
   "source": [
    "arr = np.array([[1, 2, 3, 4, 5],[4, 5, 6, 7, 8], [7, 8, 9, 10, 11]])\n",
    "arr"
   ]
  },
  {
   "cell_type": "code",
   "execution_count": null,
   "id": "14627786-05fc-495f-a98c-3466ba463511",
   "metadata": {
    "tags": []
   },
   "outputs": [],
   "source": [
    "arr[(0,1),(1,3)]"
   ]
  },
  {
   "cell_type": "code",
   "execution_count": null,
   "id": "6a7e29fb-656f-448f-841b-aaffe97c5cf1",
   "metadata": {
    "tags": []
   },
   "outputs": [],
   "source": [
    "arr[1:2,(0,2,3)]"
   ]
  },
  {
   "cell_type": "code",
   "execution_count": null,
   "id": "b905a116-69da-4b3b-9d06-c1167265831b",
   "metadata": {
    "tags": []
   },
   "outputs": [],
   "source": [
    "marsk = np.array([0,1,1],dtype = bool)\n",
    "arr[marsk,1]"
   ]
  },
  {
   "cell_type": "code",
   "execution_count": null,
   "id": "d9f6e6bc-8d80-401c-8658-925025a5f971",
   "metadata": {
    "tags": []
   },
   "outputs": [],
   "source": [
    "arr[(arr>4)&(arr<10)]"
   ]
  },
  {
   "cell_type": "markdown",
   "id": "13937e64-c376-46af-8bb9-bf1e177a90d3",
   "metadata": {},
   "source": [
    "## 7.数组元素的增删（原数组不变）"
   ]
  },
  {
   "cell_type": "markdown",
   "id": "168a9c2f-dae7-41b6-9259-adf5f2281af8",
   "metadata": {},
   "source": [
    "### 添加元素(原数组不变)\n",
    "**append(arr,values,axis)  :**  \n",
    "是在数组的末尾添加元素，该函数会返回一个新数组，而原数组不变"
   ]
  },
  {
   "cell_type": "code",
   "execution_count": null,
   "id": "ad9c8b8b-581a-42ec-8cd5-0147a1aa101d",
   "metadata": {},
   "outputs": [],
   "source": [
    "arr = np.array([[1,2,3,4], [5,6,7,8]])\n",
    "arr"
   ]
  },
  {
   "cell_type": "code",
   "execution_count": null,
   "id": "1dcc84e3-e2ac-4cab-a6df-0351eca4aec2",
   "metadata": {},
   "outputs": [],
   "source": [
    "#未提供axis值，在添加操作之前输入数组会被展开\n",
    "np.append(arr,[['a',10],[11,12]])"
   ]
  },
  {
   "cell_type": "code",
   "execution_count": null,
   "id": "59689f54-6331-469e-bfc2-26041aa7f714",
   "metadata": {},
   "outputs": [],
   "source": [
    "arr"
   ]
  },
  {
   "cell_type": "code",
   "execution_count": null,
   "id": "a3cfc064-bffc-4984-9264-19f7f6817566",
   "metadata": {},
   "outputs": [],
   "source": [
    "#沿轴 0 添加元素\n",
    "np.append(arr,[[9,10,11,12],[11,11,11,11]], axis=0)"
   ]
  },
  {
   "cell_type": "code",
   "execution_count": null,
   "id": "1b9656d5-45a7-49af-83a5-446f7bf245d4",
   "metadata": {},
   "outputs": [],
   "source": [
    "#沿轴 1 添加元素\n",
    "np.append(arr,[[9,10],[11,12]], axis=1)"
   ]
  },
  {
   "cell_type": "markdown",
   "id": "5fd9b268-4a31-4d26-b637-0a60edba6ac3",
   "metadata": {},
   "source": [
    "### 插入元素(原数组不变)\n",
    "**insert(arr,index,values,axis) :**   \n",
    "在给定索引之前，沿给定轴在输入数组中插入值,返回一个新数组，原数组不变!"
   ]
  },
  {
   "cell_type": "code",
   "execution_count": null,
   "id": "1adb75ba-0746-4d0d-8663-282ff703efc6",
   "metadata": {
    "tags": []
   },
   "outputs": [],
   "source": [
    "arr = np.array([[1,2,3,4], [5,6,7,8]])\n",
    "arr"
   ]
  },
  {
   "cell_type": "code",
   "execution_count": null,
   "id": "2cdab948-acd2-492c-9533-0dda5a63fbef",
   "metadata": {
    "tags": []
   },
   "outputs": [],
   "source": [
    "# 未传递axis参数。在插入之前输入数组会被展开：\n",
    "np.insert(arr,4,[9,10,11,12])"
   ]
  },
  {
   "cell_type": "code",
   "execution_count": null,
   "id": "ab8b2e7f-f262-4acd-9376-e159337f0952",
   "metadata": {
    "tags": []
   },
   "outputs": [],
   "source": [
    "# 传递了axis参数,会广播值数组来配输入数组\n",
    "# 沿轴 0 广播\n",
    "np.insert(arr, 1, [9], axis=0)"
   ]
  },
  {
   "cell_type": "code",
   "execution_count": null,
   "id": "71659de1-873a-4f17-8ea4-884ab13df662",
   "metadata": {
    "tags": []
   },
   "outputs": [],
   "source": [
    "# 沿轴 0 插入\n",
    "np.insert(arr, 2, [9,10,11,12], axis=0)"
   ]
  },
  {
   "cell_type": "code",
   "execution_count": null,
   "id": "10a34fd2-b5d0-4ecb-812d-877b966fc74a",
   "metadata": {
    "tags": []
   },
   "outputs": [],
   "source": [
    "# 沿轴 1 广播\n",
    "np.insert(arr, 2, [[9],[10]], axis=1)"
   ]
  },
  {
   "cell_type": "code",
   "execution_count": null,
   "id": "0402f7ff-eae6-4ddc-8dc0-b282a3623eeb",
   "metadata": {
    "tags": []
   },
   "outputs": [],
   "source": [
    "# 沿轴 1 插入\n",
    "np.insert(arr, 2, [[9,10],[11,12]], axis=1)"
   ]
  },
  {
   "cell_type": "markdown",
   "id": "8d11b2e6-9038-4d07-9c75-aa1804422023",
   "metadata": {},
   "source": [
    "### 删除数组(原数组不变)\n",
    "**delete(arr,index,axis):**  \n",
    "返回从输入数组中删除指定子数组的新数组，原数组不变。"
   ]
  },
  {
   "cell_type": "code",
   "execution_count": null,
   "id": "f048b6ce-b06b-4c15-a82c-2457015a8987",
   "metadata": {},
   "outputs": [],
   "source": [
    "arr = np.arange(16).reshape(4,4)\n",
    "arr"
   ]
  },
  {
   "cell_type": "code",
   "execution_count": null,
   "id": "293d7445-6ee2-48af-b12e-a790bc479169",
   "metadata": {},
   "outputs": [],
   "source": [
    "#未传递 axis 参数,数组会被展开\n",
    "np.delete(arr,[6,9,12])"
   ]
  },
  {
   "cell_type": "code",
   "execution_count": null,
   "id": "5f3b59cc-b5c3-4329-9de5-b731ab63f79c",
   "metadata": {},
   "outputs": [],
   "source": [
    "arr"
   ]
  },
  {
   "cell_type": "code",
   "execution_count": null,
   "id": "3611d5f3-3d2a-45e8-ab44-cadad4426394",
   "metadata": {},
   "outputs": [],
   "source": [
    "#删除第3列\n",
    "np.delete(arr, [2,0], axis=1)"
   ]
  },
  {
   "cell_type": "code",
   "execution_count": null,
   "id": "cbf8aa64-aae5-416e-8298-ead2e87f8ab5",
   "metadata": {},
   "outputs": [],
   "source": [
    "#删除第2行\n",
    "np.delete(arr, 1, axis=0)"
   ]
  },
  {
   "cell_type": "code",
   "execution_count": null,
   "id": "1f7f7511-ffb3-4468-bf37-c2ad15ffc226",
   "metadata": {},
   "outputs": [],
   "source": [
    "#从数组中删除用切片表示元素范围值\n",
    "np.delete(arr, np.s_[::2])"
   ]
  },
  {
   "cell_type": "markdown",
   "id": "7eda6bc1-5721-4f32-9627-6bf08e3b601b",
   "metadata": {},
   "source": [
    "## 8、数组的连接与分割"
   ]
  },
  {
   "cell_type": "code",
   "execution_count": null,
   "id": "26f26485-321a-40e5-8bf3-d630f531ea32",
   "metadata": {},
   "outputs": [],
   "source": [
    "arr1 = np.arange(8).reshape(2,4)\n",
    "arr1"
   ]
  },
  {
   "cell_type": "code",
   "execution_count": null,
   "id": "f2c4eb05-0dc0-476a-a232-03179a9d1c78",
   "metadata": {},
   "outputs": [],
   "source": [
    "arr11 = np.arange(12).reshape(3,4)*100\n",
    "arr11"
   ]
  },
  {
   "cell_type": "code",
   "execution_count": null,
   "id": "db1be7ec-1525-4e98-9b09-7e20b263cc6e",
   "metadata": {},
   "outputs": [],
   "source": [
    "arr2 = arr1*3\n",
    "arr2"
   ]
  },
  {
   "cell_type": "code",
   "execution_count": null,
   "id": "c71915f2-dfcd-4a15-97ec-b4e321534146",
   "metadata": {},
   "outputs": [],
   "source": [
    "arr22 = np.arange(4).reshape(2,2)*6\n",
    "arr22"
   ]
  },
  {
   "cell_type": "code",
   "execution_count": null,
   "id": "8678e2aa-6f97-4b4e-ad11-642d21b76801",
   "metadata": {},
   "outputs": [],
   "source": [
    "np.hstack((arr1,arr2))  #hstack()横向组合"
   ]
  },
  {
   "cell_type": "code",
   "execution_count": null,
   "id": "34d6cd4b-0938-4352-bc9c-d53c6483ec3f",
   "metadata": {},
   "outputs": [],
   "source": [
    "np.vstack((arr1,arr2)) #vstack()函数纵向组合"
   ]
  },
  {
   "cell_type": "code",
   "execution_count": null,
   "id": "51a77766-f9de-4083-9aaf-fce4b243d586",
   "metadata": {},
   "outputs": [],
   "source": [
    "np.concatenate((arr1,arr2),axis = 1)  #concatenate函数横向组合"
   ]
  },
  {
   "cell_type": "code",
   "execution_count": null,
   "id": "0fc32fb3-35c3-48a9-bdb7-9695723f3ea3",
   "metadata": {},
   "outputs": [],
   "source": [
    "np.concatenate((arr1,arr2),axis = 0)  #concatenate函数纵向组合"
   ]
  },
  {
   "cell_type": "code",
   "execution_count": null,
   "id": "093b0a86-4159-4e60-8977-12b93f208f19",
   "metadata": {},
   "outputs": [],
   "source": [
    "arr = np.arange(16).reshape(4,4)\n",
    "arr"
   ]
  },
  {
   "cell_type": "code",
   "execution_count": null,
   "id": "4d43115d-a51a-4204-aa97-5143c5cf8ffe",
   "metadata": {},
   "outputs": [],
   "source": [
    "np.hsplit(arr, 2)  #hsplit()纵向分割"
   ]
  },
  {
   "cell_type": "code",
   "execution_count": null,
   "id": "df22cbdc-0dc6-4002-8dbf-72f0eb86aee2",
   "metadata": {},
   "outputs": [],
   "source": [
    "np.vsplit(arr, 2)  #vsplit()横向分割"
   ]
  },
  {
   "cell_type": "code",
   "execution_count": null,
   "id": "ec96ea71-109c-40db-824f-e117c8f5d5a2",
   "metadata": {},
   "outputs": [],
   "source": [
    "np.hsplit(arr, (1,3))#列索引为1，3位置之前分割"
   ]
  },
  {
   "cell_type": "code",
   "execution_count": null,
   "id": "9e70f723-a675-4845-b421-2c443a5fdb16",
   "metadata": {},
   "outputs": [],
   "source": [
    "np.vsplit(arr, (1,2))#行索引为1，2位置之前分割"
   ]
  },
  {
   "cell_type": "code",
   "execution_count": null,
   "id": "f84385de-2d34-4875-866a-3687e95180ba",
   "metadata": {},
   "outputs": [],
   "source": [
    "#按索引号提取子数组\n",
    "np.vsplit(arr, 2) [0]"
   ]
  },
  {
   "cell_type": "code",
   "execution_count": null,
   "id": "a401f3c2-ba0a-452b-b290-57f8f9021791",
   "metadata": {},
   "outputs": [],
   "source": [
    "arr = np.arange(10,26).reshape(4,4)\n",
    "arr"
   ]
  },
  {
   "cell_type": "code",
   "execution_count": null,
   "id": "f72fc2a8-b725-4d01-b9ff-7f1e1b67d8c1",
   "metadata": {},
   "outputs": [],
   "source": [
    "np.split(arr, 2, axis=1)  "
   ]
  },
  {
   "cell_type": "code",
   "execution_count": null,
   "id": "c657479c-45d7-45e7-b188-d9d96c39afb0",
   "metadata": {},
   "outputs": [],
   "source": [
    "np.split(arr, 2, axis=0)  "
   ]
  },
  {
   "cell_type": "code",
   "execution_count": null,
   "id": "5e907f42-d606-4668-a909-d30fcac6529f",
   "metadata": {},
   "outputs": [],
   "source": [
    "np.split(arr, (1,2), axis=1)  "
   ]
  },
  {
   "cell_type": "markdown",
   "id": "57f8e825-ecf8-4f63-9dfc-3a4e0e541258",
   "metadata": {},
   "source": [
    "### 数组转置和轴变换"
   ]
  },
  {
   "cell_type": "code",
   "execution_count": null,
   "id": "ebff76ed-a133-4604-83b7-14f1ee074754",
   "metadata": {},
   "outputs": [],
   "source": [
    "#创建数组2行5\n",
    "arr = np.arange(10).reshape(2,5)\n",
    "arr"
   ]
  },
  {
   "cell_type": "code",
   "execution_count": null,
   "id": "ec9964f6-0281-4be6-8b14-9a756a89b2b8",
   "metadata": {},
   "outputs": [],
   "source": [
    "np.sum(arr)"
   ]
  },
  {
   "cell_type": "code",
   "execution_count": null,
   "id": "da86d663-3a33-4885-b11e-a0df5f62e28a",
   "metadata": {},
   "outputs": [],
   "source": [
    "#用transpose函数转置\n",
    "b = np.transpose(arr)\n",
    "b"
   ]
  },
  {
   "cell_type": "code",
   "execution_count": null,
   "id": "e7851fb1-0689-4b87-9798-b871dbeefbf5",
   "metadata": {},
   "outputs": [],
   "source": [
    "b[2,1] = 1000\n",
    "arr"
   ]
  },
  {
   "cell_type": "code",
   "execution_count": null,
   "id": "24102f65-c080-4f01-b231-51be9acb9d72",
   "metadata": {},
   "outputs": [],
   "source": [
    "#用ndarray.T转置\n",
    "arr.T"
   ]
  },
  {
   "cell_type": "markdown",
   "id": "2c00b6ed-be3e-4b71-b2a2-20e53415a207",
   "metadata": {},
   "source": [
    "## 9、数组运算和通用函数"
   ]
  },
  {
   "cell_type": "code",
   "execution_count": null,
   "id": "07132a26-dfcc-45a0-aa52-e6359c96a204",
   "metadata": {
    "tags": []
   },
   "outputs": [],
   "source": [
    "%%timeit\n",
    "a=[1,2,3]\n",
    "b=[]\n",
    "for i in a:\n",
    "    b.append(i*i)\n",
    "#print(\"b列表：\",b)"
   ]
  },
  {
   "cell_type": "code",
   "execution_count": null,
   "id": "6be5bdd6-0b68-455d-b52b-5edd55f16816",
   "metadata": {
    "tags": []
   },
   "outputs": [],
   "source": [
    "%%timeit\n",
    "t=np.array([1,2,3])\n",
    "c=t**2\n",
    "#print(\"c数组: \",c)"
   ]
  },
  {
   "cell_type": "code",
   "execution_count": null,
   "id": "7d87a7f3-bdd9-4c71-a3b7-6d99b40425c6",
   "metadata": {},
   "outputs": [],
   "source": [
    "a=[1,2,3]\n",
    "a*2"
   ]
  },
  {
   "cell_type": "code",
   "execution_count": null,
   "id": "0e321335-0943-46d1-9963-64921924ae59",
   "metadata": {},
   "outputs": [],
   "source": [
    "t=np.array([1,2,3])\n",
    "t*2"
   ]
  },
  {
   "cell_type": "code",
   "execution_count": null,
   "id": "293ce65c-0387-4f21-877f-f2d758934ff4",
   "metadata": {
    "tags": []
   },
   "outputs": [],
   "source": [
    "#数组转换\n",
    "arr = np.arange(9).reshape(3,3)\n",
    "arr"
   ]
  },
  {
   "cell_type": "code",
   "execution_count": null,
   "id": "45cdc858-ce32-4ca0-914b-0782252474b6",
   "metadata": {
    "tags": []
   },
   "outputs": [],
   "source": [
    "arr_list = arr.tolist()\n",
    "arr_list"
   ]
  },
  {
   "cell_type": "markdown",
   "id": "5e8b1f6e-eeea-4671-9708-5fc4aaca75c8",
   "metadata": {},
   "source": [
    "1. arr_c1 = arr_a + arr_b    #加\n",
    "2. arr_c2 = arr_a - arr_b    #减\n",
    "3. arr_c3 = arr_a * arr_b    #乘\n",
    "4. arr_c4 = arr_a / arr_b    #除 \n",
    "5. arr_c5 = -arr_a           #取反\n",
    "6. arr_c6 = arr_a**2         #平方\n",
    "7. arr_c7 = arr_a^2          #按位异或"
   ]
  },
  {
   "cell_type": "code",
   "execution_count": null,
   "id": "428a7e6c-3d7b-4e1e-a018-4cd26a5f5c01",
   "metadata": {},
   "outputs": [],
   "source": [
    "arr_a = np.arange(4)\n",
    "arr_a"
   ]
  },
  {
   "cell_type": "code",
   "execution_count": null,
   "id": "9fba524e-94eb-4e46-aea8-8e7330519222",
   "metadata": {},
   "outputs": [],
   "source": [
    "arr_b = np.array([0,6,8,10])\n",
    "arr_b"
   ]
  },
  {
   "cell_type": "code",
   "execution_count": null,
   "id": "ae214472-d2c4-46c1-b380-3bc9c94f3ea8",
   "metadata": {},
   "outputs": [],
   "source": [
    "arr_a + arr_b"
   ]
  },
  {
   "cell_type": "code",
   "execution_count": null,
   "id": "bf934596-7a93-4e70-86e5-35d00e29b157",
   "metadata": {},
   "outputs": [],
   "source": [
    "arr_a - arr_b"
   ]
  },
  {
   "cell_type": "code",
   "execution_count": null,
   "id": "6a04fb58-3864-4afa-9257-107fc852b38a",
   "metadata": {},
   "outputs": [],
   "source": [
    "arr_c = arr_a * arr_b"
   ]
  },
  {
   "cell_type": "code",
   "execution_count": null,
   "id": "3a72ea19-d97b-4fac-bcf4-31a51bacb802",
   "metadata": {},
   "outputs": [],
   "source": [
    "#np.multiply(arr_a,arr_b)\n",
    "arr_a / arr_b"
   ]
  },
  {
   "cell_type": "code",
   "execution_count": null,
   "id": "11b4b5fd-bd3b-47ea-b827-c81e80c1dbfb",
   "metadata": {},
   "outputs": [],
   "source": [
    "#取反\n",
    "-arr_a"
   ]
  },
  {
   "cell_type": "code",
   "execution_count": null,
   "id": "5a12a3e3-fc3e-4e1c-8415-304cd8841e29",
   "metadata": {},
   "outputs": [],
   "source": [
    "arr_a**2"
   ]
  },
  {
   "cell_type": "code",
   "execution_count": null,
   "id": "7d58d66b-ce2c-429c-a1a0-d3841c265a0f",
   "metadata": {
    "tags": []
   },
   "outputs": [],
   "source": [
    "#按位异或\n",
    "arr_a^2"
   ]
  },
  {
   "cell_type": "code",
   "execution_count": null,
   "id": "210d0602-95d4-4ac6-bc2c-7cb5f691c1ac",
   "metadata": {},
   "outputs": [],
   "source": [
    "arr = np.arange(10)\n",
    "arr"
   ]
  },
  {
   "cell_type": "code",
   "execution_count": null,
   "id": "5da1bc91-3f1e-4da8-9a49-d6ac1add3acb",
   "metadata": {},
   "outputs": [],
   "source": [
    "print ('求平方根')\n",
    "arr_a = np.sqrt(arr)\n",
    "arr_a"
   ]
  },
  {
   "cell_type": "code",
   "execution_count": null,
   "id": "504133de-a226-4415-b81e-d5257aa5dfa5",
   "metadata": {},
   "outputs": [],
   "source": []
  },
  {
   "cell_type": "code",
   "execution_count": null,
   "id": "1ff35852-657c-4697-a33c-1439c89945ee",
   "metadata": {},
   "outputs": [],
   "source": [
    "# 一维数组的点积\n",
    "a = np.array([1,2,3])\n",
    "b = np.array([4,5,6])\n",
    "vector_dot = np.dot(a, b)\n",
    "print('一维数组的点积：\\n',vector_dot)"
   ]
  },
  {
   "cell_type": "code",
   "execution_count": null,
   "id": "08c5a205-688b-48cb-983e-976f15170ae4",
   "metadata": {},
   "outputs": [],
   "source": [
    "a*b"
   ]
  },
  {
   "cell_type": "code",
   "execution_count": null,
   "id": "6f2661a4-1d67-4096-a8fe-7cb82c26dcc6",
   "metadata": {},
   "outputs": [],
   "source": [
    "arr5 = np.array([5,15,25,40]).reshape(4,1)\n",
    "arr6 = np.arange(12).reshape(3,4)"
   ]
  },
  {
   "cell_type": "code",
   "execution_count": null,
   "id": "d1607b3d-d71a-42fa-825f-99749f341587",
   "metadata": {},
   "outputs": [],
   "source": [
    "arr2d = np.dot(arr6,arr5)"
   ]
  },
  {
   "cell_type": "code",
   "execution_count": null,
   "id": "41ab66e0-e99e-4759-9669-b9e8147778ce",
   "metadata": {},
   "outputs": [],
   "source": [
    "arr2d"
   ]
  },
  {
   "cell_type": "code",
   "execution_count": null,
   "id": "01984e20-99ee-48db-a4f8-dcd9d652b3ea",
   "metadata": {},
   "outputs": [],
   "source": [
    "arr9 = np.array([[1,2,3],[4,5,6]])\n",
    "arr10 = np.array([[6,23],[-1,7],[8,9]])\n",
    "np.dot(arr9,arr10)"
   ]
  },
  {
   "cell_type": "code",
   "execution_count": null,
   "id": "b1543c39-f24d-402f-931f-aee470be25f2",
   "metadata": {},
   "outputs": [],
   "source": [
    "arr11 = np.array([[6,-1],[8,1]])\n",
    "arr12 = np.array([[6,10],[-1,1]])"
   ]
  },
  {
   "cell_type": "code",
   "execution_count": null,
   "id": "ea457be6-e34b-4032-aeb8-07e17feb363e",
   "metadata": {},
   "outputs": [],
   "source": [
    "np.dot(arr11,arr12)"
   ]
  },
  {
   "cell_type": "code",
   "execution_count": null,
   "id": "5d2f29b2-5cc8-4180-b6c0-567909eae3f9",
   "metadata": {},
   "outputs": [],
   "source": [
    "arr11*arr12"
   ]
  },
  {
   "cell_type": "markdown",
   "id": "f5908ab1-e6b2-4bb3-aad6-909329de463e",
   "metadata": {},
   "source": [
    "* 集合运算"
   ]
  },
  {
   "cell_type": "code",
   "execution_count": null,
   "id": "fb895272-80dd-4da2-9e71-86a2fc9f05f8",
   "metadata": {},
   "outputs": [],
   "source": [
    "s  = np.array([1,2,3,4,3,1,2,2,4,6,7,2,4,8,4,5])"
   ]
  },
  {
   "cell_type": "code",
   "execution_count": null,
   "id": "133722cb-13c0-4880-b622-47bda503aac1",
   "metadata": {},
   "outputs": [],
   "source": [
    "np.unique(s)"
   ]
  },
  {
   "cell_type": "code",
   "execution_count": null,
   "id": "f7fe7b09-ae8a-4841-afc5-5ab13a30888d",
   "metadata": {},
   "outputs": [],
   "source": [
    "# 测试一个数组元素是否在另外一个数组里面\n",
    "test = [2,3,6] #"
   ]
  },
  {
   "cell_type": "code",
   "execution_count": null,
   "id": "66d9e5fb-4aee-4320-b7a7-cddc5a6e4cf2",
   "metadata": {},
   "outputs": [],
   "source": [
    "np.in1d(s,test) #测试s是否在test里面"
   ]
  },
  {
   "cell_type": "markdown",
   "id": "7913309b-c9b2-4abb-be42-eaebe130d798",
   "metadata": {},
   "source": [
    "大家可以自行尝试一下\n",
    "* intersect1d(x,y) --交集\n",
    "* union1d(x,y) --并集\n",
    "* setdiff1d(x,y)  --x 减去 x和y的交集后的集合\n",
    "* setxor1d(x,y)  -- x和y的并集减去x和y的交集"
   ]
  },
  {
   "cell_type": "markdown",
   "id": "746680d1-e840-4ac3-8231-a76bbb11b373",
   "metadata": {},
   "source": [
    "* 比较运算"
   ]
  },
  {
   "cell_type": "code",
   "execution_count": null,
   "id": "721cee79-fd68-4de3-bc6e-f3c176a9cfe1",
   "metadata": {},
   "outputs": [],
   "source": [
    "arr1 = np.array([[0,1,3],[4,2,9],[4,5,9],[1,-3,4]])\n",
    "arr3 = np.array([1,2,3])"
   ]
  },
  {
   "cell_type": "code",
   "execution_count": null,
   "id": "a32d4f7a-87c2-4b65-9016-747cdbd5ffa1",
   "metadata": {},
   "outputs": [],
   "source": [
    "arr1 == arr3"
   ]
  },
  {
   "cell_type": "code",
   "execution_count": null,
   "id": "1938645a-6888-447a-8ab1-eb0e88b0410f",
   "metadata": {},
   "outputs": [],
   "source": [
    "np.equal(arr1,arr3)"
   ]
  },
  {
   "cell_type": "code",
   "execution_count": null,
   "id": "74df6171-2401-436b-a270-e0052750ab7f",
   "metadata": {},
   "outputs": [],
   "source": [
    "np.greater(arr1,arr3)"
   ]
  },
  {
   "cell_type": "markdown",
   "id": "710c0649-76b1-4657-b858-52475acfccbb",
   "metadata": {},
   "source": [
    "* 逻辑运算"
   ]
  },
  {
   "cell_type": "code",
   "execution_count": null,
   "id": "9935ed82-a649-4c21-abc2-55c45d0d1b0c",
   "metadata": {},
   "outputs": [],
   "source": [
    "np.greater(arr1,arr3).any()#只要一个为True，则返回True"
   ]
  },
  {
   "cell_type": "code",
   "execution_count": null,
   "id": "7728e13b-2905-4e32-b2a1-d5df3b0b74b4",
   "metadata": {},
   "outputs": [],
   "source": [
    "np.greater(arr1,arr2).all()#所有元素为True，则返回True"
   ]
  },
  {
   "cell_type": "code",
   "execution_count": null,
   "id": "aba77237-428e-4619-8aa0-2557ff7e96ab",
   "metadata": {},
   "outputs": [],
   "source": [
    "s1 = np.array([-1,1,np.nan])"
   ]
  },
  {
   "cell_type": "code",
   "execution_count": null,
   "id": "71bb0f47-513d-4367-be48-8189b36fbb16",
   "metadata": {},
   "outputs": [],
   "source": [
    "np.isnan(s1)"
   ]
  },
  {
   "cell_type": "markdown",
   "id": "4b604411-3e35-4c2a-aa6b-154078d5bfcc",
   "metadata": {},
   "source": [
    "### 通用函数小练习"
   ]
  },
  {
   "cell_type": "markdown",
   "id": "d1ce3eba-d6d9-4918-89f3-e774f6be834f",
   "metadata": {},
   "source": [
    "   定义arr为10~25的3*5的二维数组，运用通用函数完成下列计算：\n",
    "1. 对arr数组求平方根和将arr数组与2相加"
   ]
  },
  {
   "cell_type": "code",
   "execution_count": 3,
   "id": "03880f8b-2132-4749-8b69-918e606c51ec",
   "metadata": {},
   "outputs": [
    {
     "data": {
      "text/plain": [
       "array([[10, 11, 12, 13, 14],\n",
       "       [15, 16, 17, 18, 19],\n",
       "       [20, 21, 22, 23, 24]])"
      ]
     },
     "execution_count": 3,
     "metadata": {},
     "output_type": "execute_result"
    }
   ],
   "source": [
    "arr = np.arange(10,25).reshape(3,5)\n",
    "arr"
   ]
  },
  {
   "cell_type": "code",
   "execution_count": 4,
   "id": "4e212efc-49f0-4da1-9443-83b007475a0e",
   "metadata": {},
   "outputs": [
    {
     "data": {
      "text/plain": [
       "array([[3.16227766, 3.31662479, 3.46410162, 3.60555128, 3.74165739],\n",
       "       [3.87298335, 4.        , 4.12310563, 4.24264069, 4.35889894],\n",
       "       [4.47213595, 4.58257569, 4.69041576, 4.79583152, 4.89897949]])"
      ]
     },
     "execution_count": 4,
     "metadata": {},
     "output_type": "execute_result"
    }
   ],
   "source": [
    "arr_a = np.sqrt(arr)\n",
    "arr_a"
   ]
  },
  {
   "cell_type": "code",
   "execution_count": 5,
   "id": "1804070f-5cd2-43d4-8062-a74f722c2b6a",
   "metadata": {},
   "outputs": [
    {
     "data": {
      "text/plain": [
       "array([[12, 13, 14, 15, 16],\n",
       "       [17, 18, 19, 20, 21],\n",
       "       [22, 23, 24, 25, 26]])"
      ]
     },
     "execution_count": 5,
     "metadata": {},
     "output_type": "execute_result"
    }
   ],
   "source": [
    "np.add(arr,2)"
   ]
  },
  {
   "cell_type": "markdown",
   "id": "9746a2f9-a122-435d-a44f-3cf7c4da36ab",
   "metadata": {},
   "source": [
    "2. 将arr数组的平方根乘3赋值给数组arr_f，并将arr_f浮点数分解成整数(arr_f1)和小数部分(arr_f2)"
   ]
  },
  {
   "cell_type": "code",
   "execution_count": 6,
   "id": "a218b15a-762b-4c08-8fbb-f02e3528d2bc",
   "metadata": {},
   "outputs": [],
   "source": [
    "arr_f = arr_a * 3 "
   ]
  },
  {
   "cell_type": "code",
   "execution_count": 9,
   "id": "6c9e725d-fa09-4290-9adc-c8836c42f8d9",
   "metadata": {},
   "outputs": [
    {
     "data": {
      "text/plain": [
       "array([[ 9.48683298,  9.94987437, 10.39230485, 10.81665383, 11.22497216],\n",
       "       [11.61895004, 12.        , 12.36931688, 12.72792206, 13.07669683],\n",
       "       [13.41640786, 13.74772708, 14.07124728, 14.38749457, 14.69693846]])"
      ]
     },
     "execution_count": 9,
     "metadata": {},
     "output_type": "execute_result"
    }
   ],
   "source": [
    "arr_f"
   ]
  },
  {
   "cell_type": "code",
   "execution_count": 8,
   "id": "5ad07bfb-0159-4d45-95f0-6f00f57f4280",
   "metadata": {},
   "outputs": [
    {
     "data": {
      "text/plain": [
       "(array([[0.48683298, 0.94987437, 0.39230485, 0.81665383, 0.22497216],\n",
       "        [0.61895004, 0.        , 0.36931688, 0.72792206, 0.07669683],\n",
       "        [0.41640786, 0.74772708, 0.07124728, 0.38749457, 0.69693846]]),\n",
       " array([[ 9.,  9., 10., 10., 11.],\n",
       "        [11., 12., 12., 12., 13.],\n",
       "        [13., 13., 14., 14., 14.]]))"
      ]
     },
     "execution_count": 8,
     "metadata": {},
     "output_type": "execute_result"
    }
   ],
   "source": [
    "np.modf(arr_f)"
   ]
  },
  {
   "cell_type": "code",
   "execution_count": 15,
   "id": "447b95d8-3c55-4840-a968-ef819daf415c",
   "metadata": {},
   "outputs": [],
   "source": [
    "arr_f1,arr_f2 = np.modf(arr_f)"
   ]
  },
  {
   "cell_type": "code",
   "execution_count": 12,
   "id": "a5dca6e3-1e51-4265-9ff1-9c56d5463b80",
   "metadata": {},
   "outputs": [
    {
     "data": {
      "text/plain": [
       "array([[0.48683298, 0.94987437, 0.39230485, 0.81665383, 0.22497216],\n",
       "       [0.61895004, 0.        , 0.36931688, 0.72792206, 0.07669683],\n",
       "       [0.41640786, 0.74772708, 0.07124728, 0.38749457, 0.69693846]])"
      ]
     },
     "execution_count": 12,
     "metadata": {},
     "output_type": "execute_result"
    }
   ],
   "source": [
    "arr_f1"
   ]
  },
  {
   "cell_type": "code",
   "execution_count": 13,
   "id": "e728ee28-32f0-4819-b6bc-d02acd55847a",
   "metadata": {},
   "outputs": [
    {
     "data": {
      "text/plain": [
       "array([[ 9.,  9., 10., 10., 11.],\n",
       "       [11., 12., 12., 12., 13.],\n",
       "       [13., 13., 14., 14., 14.]])"
      ]
     },
     "execution_count": 13,
     "metadata": {},
     "output_type": "execute_result"
    }
   ],
   "source": [
    "arr_f2"
   ]
  },
  {
   "cell_type": "code",
   "execution_count": 10,
   "id": "192629d8-67c7-4e00-9bac-ece2375d62f6",
   "metadata": {},
   "outputs": [
    {
     "data": {
      "text/plain": [
       "array([[ 9.,  9., 10., 10., 11.],\n",
       "       [11., 12., 12., 12., 13.],\n",
       "       [13., 13., 14., 14., 14.]])"
      ]
     },
     "execution_count": 10,
     "metadata": {},
     "output_type": "execute_result"
    }
   ],
   "source": [
    "np.modf(arr_f)[1]"
   ]
  },
  {
   "cell_type": "markdown",
   "id": "b3c24ffc-e7ee-4d6e-b38d-0762caa45deb",
   "metadata": {},
   "source": [
    "3. 求arr_f的最大值与arr每一列的最小值，并给出对应索引"
   ]
  },
  {
   "cell_type": "code",
   "execution_count": 16,
   "id": "ce4a49b3-dc44-460e-ac73-d92513130214",
   "metadata": {},
   "outputs": [
    {
     "data": {
      "text/plain": [
       "array([[ 9.48683298,  9.94987437, 10.39230485, 10.81665383, 11.22497216],\n",
       "       [11.61895004, 12.        , 12.36931688, 12.72792206, 13.07669683],\n",
       "       [13.41640786, 13.74772708, 14.07124728, 14.38749457, 14.69693846]])"
      ]
     },
     "execution_count": 16,
     "metadata": {},
     "output_type": "execute_result"
    }
   ],
   "source": [
    "arr_f"
   ]
  },
  {
   "cell_type": "code",
   "execution_count": 17,
   "id": "cc5d2b29-bcee-49ae-aac2-4ddaee954bb3",
   "metadata": {},
   "outputs": [
    {
     "data": {
      "text/plain": [
       "14.696938456699067"
      ]
     },
     "execution_count": 17,
     "metadata": {},
     "output_type": "execute_result"
    }
   ],
   "source": [
    "np.max(arr_f)"
   ]
  },
  {
   "cell_type": "code",
   "execution_count": 18,
   "id": "be5811e6-6335-440f-b843-93a11f05f411",
   "metadata": {},
   "outputs": [
    {
     "data": {
      "text/plain": [
       "array([[10, 11, 12, 13, 14],\n",
       "       [15, 16, 17, 18, 19],\n",
       "       [20, 21, 22, 23, 24]])"
      ]
     },
     "execution_count": 18,
     "metadata": {},
     "output_type": "execute_result"
    }
   ],
   "source": [
    "arr"
   ]
  },
  {
   "cell_type": "code",
   "execution_count": 19,
   "id": "6e014c96-8df3-4e93-8140-c1cfcd99411c",
   "metadata": {},
   "outputs": [
    {
     "data": {
      "text/plain": [
       "array([10, 11, 12, 13, 14])"
      ]
     },
     "execution_count": 19,
     "metadata": {},
     "output_type": "execute_result"
    }
   ],
   "source": [
    "np.min(arr,axis = 0)"
   ]
  },
  {
   "cell_type": "code",
   "execution_count": 20,
   "id": "f8f69943-d830-444f-8567-713f96c554c9",
   "metadata": {},
   "outputs": [
    {
     "data": {
      "text/plain": [
       "array([10, 15, 20])"
      ]
     },
     "execution_count": 20,
     "metadata": {},
     "output_type": "execute_result"
    }
   ],
   "source": [
    "np.min(arr,axis = 1)"
   ]
  },
  {
   "cell_type": "code",
   "execution_count": null,
   "id": "2e036264-6c7e-4e3d-8dad-05e3a4140103",
   "metadata": {},
   "outputs": [],
   "source": [
    "np.min(arr,axis = 0)"
   ]
  },
  {
   "cell_type": "code",
   "execution_count": 21,
   "id": "5baeb9ff-7c81-44bf-9c19-90197e71f19f",
   "metadata": {},
   "outputs": [
    {
     "data": {
      "text/plain": [
       "14"
      ]
     },
     "execution_count": 21,
     "metadata": {},
     "output_type": "execute_result"
    }
   ],
   "source": [
    "np.argmax(arr_f)"
   ]
  },
  {
   "cell_type": "code",
   "execution_count": 22,
   "id": "0d044eca-efa5-45f1-bc82-1076128b1c15",
   "metadata": {},
   "outputs": [
    {
     "data": {
      "text/plain": [
       "array([0, 0, 0, 0, 0], dtype=int64)"
      ]
     },
     "execution_count": 22,
     "metadata": {},
     "output_type": "execute_result"
    }
   ],
   "source": [
    "np.argmin(arr,axis = 0)"
   ]
  },
  {
   "cell_type": "code",
   "execution_count": 24,
   "id": "4f7a8f0f-c29f-455d-953a-a90b2da45794",
   "metadata": {},
   "outputs": [
    {
     "data": {
      "text/plain": [
       "array([[ 9.48683298,  9.94987437, 10.39230485, 10.81665383, 11.22497216],\n",
       "       [11.61895004, 12.        , 12.36931688, 12.72792206, 13.07669683],\n",
       "       [13.41640786, 13.74772708, 14.07124728, 14.38749457, 14.69693846]])"
      ]
     },
     "execution_count": 24,
     "metadata": {},
     "output_type": "execute_result"
    }
   ],
   "source": [
    "arr_f"
   ]
  },
  {
   "cell_type": "code",
   "execution_count": 25,
   "id": "d61aaea8-51e4-4a0f-a15b-88915261eed1",
   "metadata": {},
   "outputs": [
    {
     "data": {
      "text/plain": [
       "array([[10, 11, 12, 13, 14],\n",
       "       [15, 16, 17, 18, 19],\n",
       "       [20, 21, 22, 23, 24]])"
      ]
     },
     "execution_count": 25,
     "metadata": {},
     "output_type": "execute_result"
    }
   ],
   "source": [
    "arr"
   ]
  },
  {
   "cell_type": "code",
   "execution_count": 26,
   "id": "6f323dd4-ab52-4447-8ba9-1c54bea0d31f",
   "metadata": {},
   "outputs": [
    {
     "data": {
      "text/plain": [
       "array([[10.        , 10.        , 10.39230485, 10.81665383, 11.22497216],\n",
       "       [11.61895004, 12.        , 12.36931688, 12.72792206, 13.07669683],\n",
       "       [13.41640786, 13.74772708, 14.07124728, 14.38749457, 14.69693846]])"
      ]
     },
     "execution_count": 26,
     "metadata": {},
     "output_type": "execute_result"
    }
   ],
   "source": [
    "np.maximum(arr_f, 10)  #X和Y逐位进行比较,选择最大值"
   ]
  },
  {
   "cell_type": "code",
   "execution_count": null,
   "id": "e8f29b8e-baad-4057-9c03-b9cf40fab15a",
   "metadata": {
    "tags": []
   },
   "outputs": [],
   "source": [
    "arr_f"
   ]
  },
  {
   "cell_type": "code",
   "execution_count": null,
   "id": "65520231-691c-4012-9622-f37ee49ea094",
   "metadata": {
    "tags": []
   },
   "outputs": [],
   "source": [
    "arr"
   ]
  },
  {
   "cell_type": "code",
   "execution_count": null,
   "id": "57385e24-ab7c-482e-9391-bab09b94d954",
   "metadata": {
    "tags": []
   },
   "outputs": [],
   "source": [
    "np.maximum(arr_f,arr)"
   ]
  },
  {
   "cell_type": "markdown",
   "id": "d80eea0e-6fce-4206-b504-4a6fcfe8bf44",
   "metadata": {},
   "source": [
    "4. 创建0至6之间2行3列二维数组和0至3的数组：计算两个数组的矢量积和数量积"
   ]
  },
  {
   "cell_type": "code",
   "execution_count": 27,
   "id": "2cbbf14a-e7b3-47fb-8a1a-44967455bfd5",
   "metadata": {},
   "outputs": [
    {
     "data": {
      "text/plain": [
       "array([[0, 1, 2],\n",
       "       [3, 4, 5]])"
      ]
     },
     "execution_count": 27,
     "metadata": {},
     "output_type": "execute_result"
    }
   ],
   "source": [
    "arr_a = np.arange(6).reshape(2,3)\n",
    "arr_a"
   ]
  },
  {
   "cell_type": "code",
   "execution_count": 33,
   "id": "19d65251-c6e7-418b-a2ce-6db1c9006c18",
   "metadata": {},
   "outputs": [
    {
     "data": {
      "text/plain": [
       "array([0, 1])"
      ]
     },
     "execution_count": 33,
     "metadata": {},
     "output_type": "execute_result"
    }
   ],
   "source": [
    "arr_b = np.arange(2)#一维数组在python中被理解为列向量\n",
    "arr_b"
   ]
  },
  {
   "cell_type": "code",
   "execution_count": 34,
   "id": "e3ccd0b7-0cf0-4341-b500-f1820b40c5ba",
   "metadata": {},
   "outputs": [
    {
     "data": {
      "text/plain": [
       "(2,)"
      ]
     },
     "execution_count": 34,
     "metadata": {},
     "output_type": "execute_result"
    }
   ],
   "source": [
    "arr_b.shape"
   ]
  },
  {
   "cell_type": "code",
   "execution_count": 35,
   "id": "b428e888-2f31-46d3-bb40-e730ab5fee1c",
   "metadata": {},
   "outputs": [
    {
     "data": {
      "text/plain": [
       "array([3, 4, 5])"
      ]
     },
     "execution_count": 35,
     "metadata": {},
     "output_type": "execute_result"
    }
   ],
   "source": [
    "np.dot(arr_b,arr_a)"
   ]
  },
  {
   "cell_type": "code",
   "execution_count": 31,
   "id": "4516e51d-88cc-4594-b507-3a35a877a5ec",
   "metadata": {},
   "outputs": [
    {
     "data": {
      "text/plain": [
       "array([ 5, 14])"
      ]
     },
     "execution_count": 31,
     "metadata": {},
     "output_type": "execute_result"
    }
   ],
   "source": [
    "np.dot(arr_a,arr_b)"
   ]
  },
  {
   "cell_type": "code",
   "execution_count": null,
   "id": "ce080fff-6065-4af4-b02c-379db7e9f63c",
   "metadata": {},
   "outputs": [],
   "source": []
  },
  {
   "cell_type": "code",
   "execution_count": null,
   "id": "19751462-e87d-4c75-891f-a9e8395891c9",
   "metadata": {},
   "outputs": [],
   "source": []
  },
  {
   "cell_type": "code",
   "execution_count": null,
   "id": "de3c4ff4-6ae6-4f0f-8bab-c9b993906cd8",
   "metadata": {},
   "outputs": [],
   "source": []
  },
  {
   "cell_type": "code",
   "execution_count": null,
   "id": "ca5f27df-6573-429a-94e5-22066c2c200a",
   "metadata": {},
   "outputs": [],
   "source": []
  },
  {
   "cell_type": "code",
   "execution_count": null,
   "id": "6211707a-1bfa-46ac-bbe8-50d49660cbdf",
   "metadata": {},
   "outputs": [],
   "source": []
  },
  {
   "cell_type": "code",
   "execution_count": null,
   "id": "a3ea0286-ad42-4a57-a1c8-172285ae584e",
   "metadata": {},
   "outputs": [],
   "source": []
  },
  {
   "cell_type": "code",
   "execution_count": null,
   "id": "9d657e4b-4559-4b7d-9667-0f14d5a49565",
   "metadata": {},
   "outputs": [],
   "source": []
  },
  {
   "cell_type": "code",
   "execution_count": null,
   "id": "f461fadf-c200-4e76-96e4-16a822cb3fbd",
   "metadata": {},
   "outputs": [],
   "source": [
    "np.dot(arr_a,arr_b)#相当于（2，3）*（3，）=（2，）"
   ]
  },
  {
   "cell_type": "code",
   "execution_count": null,
   "id": "26078b38-fce8-4a1b-bb18-c47e94770e11",
   "metadata": {},
   "outputs": [],
   "source": [
    "arr_b.shape"
   ]
  },
  {
   "cell_type": "code",
   "execution_count": null,
   "id": "3acf45ad-10ca-42b0-a768-4995e4d0a45f",
   "metadata": {},
   "outputs": [],
   "source": [
    "arr_b.reshape(-1,1)"
   ]
  },
  {
   "cell_type": "code",
   "execution_count": null,
   "id": "952c3f01-48d5-4a2c-9cb1-16afe39803e5",
   "metadata": {},
   "outputs": [],
   "source": [
    "arr_b.reshape(-1,1).shape"
   ]
  },
  {
   "cell_type": "code",
   "execution_count": null,
   "id": "530b2077-bfe7-41a8-9171-b640a26c06bb",
   "metadata": {},
   "outputs": [],
   "source": [
    "#计算数组矢量积：(向量的点乘)\n",
    "np.dot(arr_a,arr_b.reshape(-1,1))#相当于（2，3）*（3，1）=（2，1）"
   ]
  },
  {
   "cell_type": "code",
   "execution_count": null,
   "id": "0a4e9213-6c87-4e83-a9b2-72608b0bffe5",
   "metadata": {},
   "outputs": [],
   "source": [
    "#计算数组数量积：\n",
    "arr_a*arr_b"
   ]
  },
  {
   "cell_type": "markdown",
   "id": "4c58dc2d-4289-4fbf-8af5-78affa5d4f07",
   "metadata": {},
   "source": [
    "广播的规则小结：  \n",
    "沿维度为1的方向重复第一组值(一维数组，除了点乘，默认列为1)"
   ]
  },
  {
   "cell_type": "code",
   "execution_count": 42,
   "id": "9ae2c4d2-0de8-42ab-a69a-5c75f2410a4c",
   "metadata": {},
   "outputs": [
    {
     "data": {
      "text/plain": [
       "array([[ 11,  12,  13],\n",
       "       [ 21,  32,  43],\n",
       "       [121, 232, 343]])"
      ]
     },
     "execution_count": 42,
     "metadata": {},
     "output_type": "execute_result"
    }
   ],
   "source": [
    "a1=np.array([[1,2,3],[11,22,33],[111,222,333]])\n",
    "a2=np.array([10])\n",
    "a1+a2"
   ]
  },
  {
   "cell_type": "code",
   "execution_count": 43,
   "id": "40a7d12c-ac0a-46f6-9115-6d84a9aa6589",
   "metadata": {},
   "outputs": [
    {
     "ename": "ValueError",
     "evalue": "operands could not be broadcast together with shapes (2,3) (2,) ",
     "output_type": "error",
     "traceback": [
      "\u001b[1;31m---------------------------------------------------------------------------\u001b[0m",
      "\u001b[1;31mValueError\u001b[0m                                Traceback (most recent call last)",
      "\u001b[1;32m<ipython-input-43-eaa9b34e57d2>\u001b[0m in \u001b[0;36m<module>\u001b[1;34m\u001b[0m\n\u001b[0;32m      1\u001b[0m \u001b[0ma1\u001b[0m\u001b[1;33m=\u001b[0m\u001b[0mnp\u001b[0m\u001b[1;33m.\u001b[0m\u001b[0marray\u001b[0m\u001b[1;33m(\u001b[0m\u001b[1;33m[\u001b[0m\u001b[1;33m[\u001b[0m\u001b[1;36m1\u001b[0m\u001b[1;33m,\u001b[0m\u001b[1;36m2\u001b[0m\u001b[1;33m,\u001b[0m\u001b[1;36m3\u001b[0m\u001b[1;33m]\u001b[0m\u001b[1;33m,\u001b[0m\u001b[1;33m[\u001b[0m\u001b[1;36m11\u001b[0m\u001b[1;33m,\u001b[0m\u001b[1;36m22\u001b[0m\u001b[1;33m,\u001b[0m\u001b[1;36m33\u001b[0m\u001b[1;33m]\u001b[0m\u001b[1;33m]\u001b[0m\u001b[1;33m)\u001b[0m\u001b[1;33m\u001b[0m\u001b[1;33m\u001b[0m\u001b[0m\n\u001b[0;32m      2\u001b[0m \u001b[0ma2\u001b[0m\u001b[1;33m=\u001b[0m\u001b[0mnp\u001b[0m\u001b[1;33m.\u001b[0m\u001b[0marray\u001b[0m\u001b[1;33m(\u001b[0m\u001b[1;33m[\u001b[0m\u001b[1;36m10\u001b[0m\u001b[1;33m,\u001b[0m\u001b[1;36m100\u001b[0m\u001b[1;33m]\u001b[0m\u001b[1;33m)\u001b[0m\u001b[1;33m\u001b[0m\u001b[1;33m\u001b[0m\u001b[0m\n\u001b[1;32m----> 3\u001b[1;33m \u001b[0ma1\u001b[0m\u001b[1;33m+\u001b[0m\u001b[0ma2\u001b[0m\u001b[1;33m\u001b[0m\u001b[1;33m\u001b[0m\u001b[0m\n\u001b[0m",
      "\u001b[1;31mValueError\u001b[0m: operands could not be broadcast together with shapes (2,3) (2,) "
     ]
    }
   ],
   "source": [
    "a1=np.array([[1,2,3],[11,22,33]])\n",
    "a2=np.array([10,100])\n",
    "a1+a2"
   ]
  },
  {
   "cell_type": "code",
   "execution_count": null,
   "id": "c5373e59-e78d-4f51-8841-afc2f836f8c3",
   "metadata": {},
   "outputs": [],
   "source": [
    "a1=np.array([[1,2,3],[1,2,3],[1,2,3]])\n",
    "a2=np.array([[10],[100],[1000]])\n",
    "a1+a2"
   ]
  },
  {
   "cell_type": "markdown",
   "id": "5291d654-5ba8-435a-b740-d48aeebd099a",
   "metadata": {},
   "source": [
    "## 10、Numpy随机数生成"
   ]
  },
  {
   "cell_type": "markdown",
   "id": "9e3eb820-8c48-46d5-b17a-16dfdd81fce2",
   "metadata": {},
   "source": [
    "手动创建的数组往往可能受限制，有时候需要创建随机数，但计算机产生的都是伪随机数"
   ]
  },
  {
   "cell_type": "code",
   "execution_count": 44,
   "id": "f6f1d179-03f0-4836-9b8a-738451137061",
   "metadata": {},
   "outputs": [
    {
     "data": {
      "text/plain": [
       "array([0.50436735, 0.23025312, 0.32218474, 0.68877629, 0.933296  ,\n",
       "       0.05193153, 0.92522736, 0.18081928, 0.79081865, 0.81329857,\n",
       "       0.89944738, 0.93681184, 0.39199793, 0.04397597, 0.95370222,\n",
       "       0.53239081, 0.54903668, 0.00106622, 0.22266403, 0.9113521 ,\n",
       "       0.2579228 , 0.64792163, 0.002208  , 0.23128033, 0.49125623,\n",
       "       0.5284401 , 0.9645293 , 0.13216397, 0.79609325, 0.38916559,\n",
       "       0.41673426, 0.71702196, 0.02732084, 0.57512204, 0.80611147,\n",
       "       0.6941071 , 0.14000245, 0.08190275, 0.53005484, 0.10000333,\n",
       "       0.41754762, 0.18576152, 0.61858603, 0.47093845, 0.26025601,\n",
       "       0.51518883, 0.72636548, 0.25206586, 0.63218777, 0.73310654,\n",
       "       0.39837708, 0.41112567, 0.87870946, 0.16598121, 0.92621621,\n",
       "       0.39927356, 0.92662111, 0.94258219, 0.91642695, 0.22111395,\n",
       "       0.32815543, 0.49628951, 0.98453127, 0.18493917, 0.87444836,\n",
       "       0.61288635, 0.50523169, 0.05642163, 0.73051251, 0.52923824,\n",
       "       0.72108505, 0.98111714, 0.96995319, 0.23943357, 0.20117086,\n",
       "       0.00727049, 0.40330218, 0.13097153, 0.45401834, 0.62248129,\n",
       "       0.88946051, 0.84023614, 0.356694  , 0.90340529, 0.73021077,\n",
       "       0.16930327, 0.63522656, 0.99985264, 0.03634002, 0.02662704,\n",
       "       0.1430203 , 0.83095675, 0.73943255, 0.68162461, 0.89011953,\n",
       "       0.48277895, 0.29217245, 0.23425358, 0.85198673, 0.3244677 ])"
      ]
     },
     "execution_count": 44,
     "metadata": {},
     "output_type": "execute_result"
    }
   ],
   "source": [
    "np.random.random(100) #生成0到1之间的随机数"
   ]
  },
  {
   "cell_type": "code",
   "execution_count": 45,
   "id": "f4f524c2-1ed9-4f97-8e37-8e5825c0179e",
   "metadata": {},
   "outputs": [
    {
     "data": {
      "text/plain": [
       "array([[0.2647438 , 0.09329211, 0.3403784 , 0.62950509],\n",
       "       [0.89750946, 0.71806856, 0.20866876, 0.09681875],\n",
       "       [0.19945559, 0.35038501, 0.94854319, 0.13764595]])"
      ]
     },
     "execution_count": 45,
     "metadata": {},
     "output_type": "execute_result"
    }
   ],
   "source": [
    "np.random.random((3,4)) "
   ]
  },
  {
   "cell_type": "code",
   "execution_count": 62,
   "id": "214b5dba-26cf-45ba-9126-520577bae95d",
   "metadata": {},
   "outputs": [
    {
     "data": {
      "text/plain": [
       "array([[0.54340494, 0.27836939, 0.42451759],\n",
       "       [0.84477613, 0.00471886, 0.12156912],\n",
       "       [0.67074908, 0.82585276, 0.13670659],\n",
       "       [0.57509333, 0.89132195, 0.20920212],\n",
       "       [0.18532822, 0.10837689, 0.21969749],\n",
       "       [0.97862378, 0.81168315, 0.17194101]])"
      ]
     },
     "execution_count": 62,
     "metadata": {},
     "output_type": "execute_result"
    }
   ],
   "source": [
    "np.random.seed(100)\n",
    "np.random.random([6,3]) "
   ]
  },
  {
   "cell_type": "code",
   "execution_count": null,
   "id": "2bf3e669-0c5a-49a3-af39-1bd6fcf5eac5",
   "metadata": {},
   "outputs": [],
   "source": [
    "# 固定随机数种子"
   ]
  },
  {
   "cell_type": "code",
   "execution_count": null,
   "id": "93ef71a8-044c-4dc5-a9be-9c5471699148",
   "metadata": {},
   "outputs": [],
   "source": [
    "np.random.seed(100)"
   ]
  },
  {
   "cell_type": "code",
   "execution_count": null,
   "id": "5d32e8f3-7c51-4f1b-89c8-1ffca639db9e",
   "metadata": {},
   "outputs": [],
   "source": [
    "np.random.rand(2,10)#生成均匀分布的随机数,指定形状,产生的均匀分布的"
   ]
  },
  {
   "cell_type": "code",
   "execution_count": null,
   "id": "28ce6d52-e3ef-4af6-8c6c-a82b960f3c2d",
   "metadata": {},
   "outputs": [],
   "source": [
    "np.random.rand(3,4)"
   ]
  },
  {
   "cell_type": "code",
   "execution_count": null,
   "id": "d3907b38-5c43-4827-b8ac-8ee250d805e3",
   "metadata": {},
   "outputs": [],
   "source": [
    "np.random.randn(10,2) #生成标准正态分布随机数，2维"
   ]
  },
  {
   "cell_type": "code",
   "execution_count": null,
   "id": "cba26741-bd3e-4709-9d16-b39cfdaf6dce",
   "metadata": {},
   "outputs": [],
   "source": [
    "#产生1到100之间的100个随机整数\n",
    "np.random.randint(0,100,size = (3,4))"
   ]
  },
  {
   "cell_type": "code",
   "execution_count": null,
   "id": "4d6026f0-e551-4a61-bedd-fe91093a7c5a",
   "metadata": {},
   "outputs": [],
   "source": [
    "np.set_printoptions(precision=2)# 控制小数位数\n",
    "np.random.normal(1,3,size = 100) #生成正态分布随机数,均值和标准差"
   ]
  },
  {
   "cell_type": "code",
   "execution_count": null,
   "id": "3d5bf499-5f41-4454-88d7-2de1a4efefc3",
   "metadata": {},
   "outputs": [],
   "source": [
    "np.random.choice([101,111,121,131,141])"
   ]
  },
  {
   "cell_type": "code",
   "execution_count": null,
   "id": "5cb2e065-cda6-4e5f-afb7-8514a2024700",
   "metadata": {},
   "outputs": [],
   "source": [
    "np.random.choice([101,111,121,131,141],6)"
   ]
  },
  {
   "cell_type": "code",
   "execution_count": null,
   "id": "631db809-7541-49bb-a3dd-924bf8d787f4",
   "metadata": {},
   "outputs": [],
   "source": [
    "np.random.choice([101,111,121,131,141],(3,4))"
   ]
  },
  {
   "cell_type": "code",
   "execution_count": 64,
   "id": "5853fae3-9e96-409a-9aed-c91ac54ca397",
   "metadata": {},
   "outputs": [
    {
     "data": {
      "text/plain": [
       "array([15, 13, 14, 14, 13, 17, 11, 11, 17, 17])"
      ]
     },
     "execution_count": 64,
     "metadata": {},
     "output_type": "execute_result"
    }
   ],
   "source": [
    "s = np.random.randint(10,20,10)\n",
    "s"
   ]
  },
  {
   "cell_type": "code",
   "execution_count": 65,
   "id": "5417fc8d-5cd0-4f9a-ad70-96b850dc878c",
   "metadata": {},
   "outputs": [
    {
     "name": "stdout",
     "output_type": "stream",
     "text": [
      "ss None\n",
      "s [17 13 11 17 17 14 11 13 14 15]\n"
     ]
    }
   ],
   "source": [
    "ss = np.random.shuffle(s)#打乱顺序\n",
    "print('ss',ss)\n",
    "print(\"s\",s)"
   ]
  },
  {
   "cell_type": "code",
   "execution_count": 66,
   "id": "2ec32c55-594e-40d1-8536-4e8bf78d6e0e",
   "metadata": {},
   "outputs": [
    {
     "name": "stdout",
     "output_type": "stream",
     "text": [
      "sp [15 17 13 11 17 14 17 11 13 14]\n",
      "s [17 13 11 17 17 14 11 13 14 15]\n"
     ]
    }
   ],
   "source": [
    "sp = np.random.permutation(s) #重新随机排列\n",
    "print('sp',sp)\n",
    "print(\"s\",s)"
   ]
  },
  {
   "cell_type": "code",
   "execution_count": null,
   "id": "59cb888e-6be1-4517-b95e-805b5880f0c5",
   "metadata": {},
   "outputs": [],
   "source": []
  },
  {
   "cell_type": "code",
   "execution_count": null,
   "id": "10ca0585-121c-4278-9cee-527af1d9e771",
   "metadata": {},
   "outputs": [],
   "source": [
    "#使用bmat函数创建矩阵\n",
    "a=np.mat('3 3 3;4 4 4')\n",
    "a"
   ]
  },
  {
   "cell_type": "code",
   "execution_count": null,
   "id": "3a4eabd7-01ff-458b-ab46-1a46f0e8f795",
   "metadata": {},
   "outputs": [],
   "source": [
    "b=np.mat('1 1 1;2 2 2')\n",
    "b"
   ]
  },
  {
   "cell_type": "code",
   "execution_count": null,
   "id": "be460b5b-19b3-42b6-a1fb-b5b40749ee0d",
   "metadata": {},
   "outputs": [],
   "source": [
    "np.bmat('a b; b a')"
   ]
  },
  {
   "cell_type": "markdown",
   "id": "c426ab9a-54bd-4371-9716-9b3443cc197d",
   "metadata": {},
   "source": [
    "### 常用统计函数"
   ]
  },
  {
   "cell_type": "code",
   "execution_count": null,
   "id": "38191ff1-9356-40ac-9fc5-6bd1b6862c68",
   "metadata": {},
   "outputs": [],
   "source": [
    "arr = np.random.randint(10,100,(3,4))\n",
    "arr"
   ]
  },
  {
   "cell_type": "code",
   "execution_count": null,
   "id": "a1c74d83-9af5-4ae6-8f74-610379adc072",
   "metadata": {},
   "outputs": [],
   "source": [
    "np.argmax(arr,axis = 1)\n"
   ]
  },
  {
   "cell_type": "code",
   "execution_count": null,
   "id": "3312fa18-ec03-44bf-b380-d7c8157daf41",
   "metadata": {},
   "outputs": [],
   "source": [
    "np.argmax(arr,axis = 0)\n"
   ]
  },
  {
   "cell_type": "code",
   "execution_count": null,
   "id": "d665ba47-cd1a-41d9-91f1-8456244d1701",
   "metadata": {},
   "outputs": [],
   "source": [
    "np.mean(arr,axis = 1)\n"
   ]
  },
  {
   "cell_type": "code",
   "execution_count": null,
   "id": "331c51b2-853d-4048-bce8-fa18cf31c978",
   "metadata": {},
   "outputs": [],
   "source": []
  },
  {
   "cell_type": "code",
   "execution_count": null,
   "id": "92959270-0791-4aa4-bb51-b9ae0ee025d4",
   "metadata": {},
   "outputs": [],
   "source": [
    "np.savez('D:\\\\00-DongHu\\\\01-Course\\\\01-DA\\\\sava_arr_f3',arr_f,arr)"
   ]
  },
  {
   "cell_type": "code",
   "execution_count": null,
   "id": "efd6f550-0749-436a-a745-12d865933e1f",
   "metadata": {},
   "outputs": [],
   "source": [
    "np.load('D:\\\\00-DongHu\\\\01-Course\\\\01-DA\\\\sava_arr_f3.npz') "
   ]
  },
  {
   "cell_type": "code",
   "execution_count": null,
   "id": "694903d0-c37a-451f-a0c0-2c9756572da5",
   "metadata": {},
   "outputs": [],
   "source": []
  }
 ],
 "metadata": {
  "kernelspec": {
   "display_name": "Python 3",
   "language": "python",
   "name": "python3"
  },
  "language_info": {
   "codemirror_mode": {
    "name": "ipython",
    "version": 3
   },
   "file_extension": ".py",
   "mimetype": "text/x-python",
   "name": "python",
   "nbconvert_exporter": "python",
   "pygments_lexer": "ipython3",
   "version": "3.8.8"
  },
  "toc-autonumbering": false
 },
 "nbformat": 4,
 "nbformat_minor": 5
}
